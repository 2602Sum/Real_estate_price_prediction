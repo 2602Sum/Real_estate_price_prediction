{
 "cells": [
  {
   "cell_type": "code",
   "execution_count": 1,
   "id": "5f7c2e18",
   "metadata": {},
   "outputs": [],
   "source": [
    "import pandas as pd\n",
    "import numpy as np\n",
    "import matplotlib.pyplot as plt\n",
    "import seaborn as sns\n",
    "%matplotlib inline"
   ]
  },
  {
   "cell_type": "code",
   "execution_count": 2,
   "id": "a5de34d3",
   "metadata": {},
   "outputs": [
    {
     "data": {
      "text/html": [
       "<div>\n",
       "<style scoped>\n",
       "    .dataframe tbody tr th:only-of-type {\n",
       "        vertical-align: middle;\n",
       "    }\n",
       "\n",
       "    .dataframe tbody tr th {\n",
       "        vertical-align: top;\n",
       "    }\n",
       "\n",
       "    .dataframe thead th {\n",
       "        text-align: right;\n",
       "    }\n",
       "</style>\n",
       "<table border=\"1\" class=\"dataframe\">\n",
       "  <thead>\n",
       "    <tr style=\"text-align: right;\">\n",
       "      <th></th>\n",
       "      <th>No</th>\n",
       "      <th>X1 transaction date</th>\n",
       "      <th>X2 house age</th>\n",
       "      <th>X3 distance to the nearest MRT station</th>\n",
       "      <th>X4 number of convenience stores</th>\n",
       "      <th>X5 latitude</th>\n",
       "      <th>X6 longitude</th>\n",
       "      <th>Y house price of unit area</th>\n",
       "    </tr>\n",
       "  </thead>\n",
       "  <tbody>\n",
       "    <tr>\n",
       "      <th>0</th>\n",
       "      <td>1</td>\n",
       "      <td>2012.917</td>\n",
       "      <td>32.0</td>\n",
       "      <td>84.87882</td>\n",
       "      <td>10</td>\n",
       "      <td>24.98298</td>\n",
       "      <td>121.54024</td>\n",
       "      <td>37.9</td>\n",
       "    </tr>\n",
       "    <tr>\n",
       "      <th>1</th>\n",
       "      <td>2</td>\n",
       "      <td>2012.917</td>\n",
       "      <td>19.5</td>\n",
       "      <td>306.59470</td>\n",
       "      <td>9</td>\n",
       "      <td>24.98034</td>\n",
       "      <td>121.53951</td>\n",
       "      <td>42.2</td>\n",
       "    </tr>\n",
       "    <tr>\n",
       "      <th>2</th>\n",
       "      <td>3</td>\n",
       "      <td>2013.583</td>\n",
       "      <td>13.3</td>\n",
       "      <td>561.98450</td>\n",
       "      <td>5</td>\n",
       "      <td>24.98746</td>\n",
       "      <td>121.54391</td>\n",
       "      <td>47.3</td>\n",
       "    </tr>\n",
       "    <tr>\n",
       "      <th>3</th>\n",
       "      <td>4</td>\n",
       "      <td>2013.500</td>\n",
       "      <td>13.3</td>\n",
       "      <td>561.98450</td>\n",
       "      <td>5</td>\n",
       "      <td>24.98746</td>\n",
       "      <td>121.54391</td>\n",
       "      <td>54.8</td>\n",
       "    </tr>\n",
       "    <tr>\n",
       "      <th>4</th>\n",
       "      <td>5</td>\n",
       "      <td>2012.833</td>\n",
       "      <td>5.0</td>\n",
       "      <td>390.56840</td>\n",
       "      <td>5</td>\n",
       "      <td>24.97937</td>\n",
       "      <td>121.54245</td>\n",
       "      <td>43.1</td>\n",
       "    </tr>\n",
       "  </tbody>\n",
       "</table>\n",
       "</div>"
      ],
      "text/plain": [
       "   No  X1 transaction date  X2 house age  \\\n",
       "0   1             2012.917          32.0   \n",
       "1   2             2012.917          19.5   \n",
       "2   3             2013.583          13.3   \n",
       "3   4             2013.500          13.3   \n",
       "4   5             2012.833           5.0   \n",
       "\n",
       "   X3 distance to the nearest MRT station  X4 number of convenience stores  \\\n",
       "0                                84.87882                               10   \n",
       "1                               306.59470                                9   \n",
       "2                               561.98450                                5   \n",
       "3                               561.98450                                5   \n",
       "4                               390.56840                                5   \n",
       "\n",
       "   X5 latitude  X6 longitude  Y house price of unit area  \n",
       "0     24.98298     121.54024                        37.9  \n",
       "1     24.98034     121.53951                        42.2  \n",
       "2     24.98746     121.54391                        47.3  \n",
       "3     24.98746     121.54391                        54.8  \n",
       "4     24.97937     121.54245                        43.1  "
      ]
     },
     "execution_count": 2,
     "metadata": {},
     "output_type": "execute_result"
    }
   ],
   "source": [
    "df = pd.read_csv(r\"D:\\DATA SCIENCE\\Data Science Revised R_27.07.21\\Data Science Revised R_27.07.21\\Data Science Projects 50 - Real Estate Price Prediction\\Real estate.csv\")\n",
    "df.head()"
   ]
  },
  {
   "cell_type": "code",
   "execution_count": 3,
   "id": "ba0b22a5",
   "metadata": {},
   "outputs": [
    {
     "name": "stdout",
     "output_type": "stream",
     "text": [
      "(414, 8)\n"
     ]
    }
   ],
   "source": [
    "print(df.shape)"
   ]
  },
  {
   "cell_type": "code",
   "execution_count": 4,
   "id": "a571153b",
   "metadata": {},
   "outputs": [
    {
     "name": "stdout",
     "output_type": "stream",
     "text": [
      "<class 'pandas.core.frame.DataFrame'>\n",
      "RangeIndex: 414 entries, 0 to 413\n",
      "Data columns (total 8 columns):\n",
      " #   Column                                  Non-Null Count  Dtype  \n",
      "---  ------                                  --------------  -----  \n",
      " 0   No                                      414 non-null    int64  \n",
      " 1   X1 transaction date                     414 non-null    float64\n",
      " 2   X2 house age                            414 non-null    float64\n",
      " 3   X3 distance to the nearest MRT station  414 non-null    float64\n",
      " 4   X4 number of convenience stores         414 non-null    int64  \n",
      " 5   X5 latitude                             414 non-null    float64\n",
      " 6   X6 longitude                            414 non-null    float64\n",
      " 7   Y house price of unit area              414 non-null    float64\n",
      "dtypes: float64(6), int64(2)\n",
      "memory usage: 26.0 KB\n"
     ]
    }
   ],
   "source": [
    "df.info()"
   ]
  },
  {
   "cell_type": "code",
   "execution_count": 5,
   "id": "a1b9c735",
   "metadata": {},
   "outputs": [
    {
     "data": {
      "text/html": [
       "<div>\n",
       "<style scoped>\n",
       "    .dataframe tbody tr th:only-of-type {\n",
       "        vertical-align: middle;\n",
       "    }\n",
       "\n",
       "    .dataframe tbody tr th {\n",
       "        vertical-align: top;\n",
       "    }\n",
       "\n",
       "    .dataframe thead th {\n",
       "        text-align: right;\n",
       "    }\n",
       "</style>\n",
       "<table border=\"1\" class=\"dataframe\">\n",
       "  <thead>\n",
       "    <tr style=\"text-align: right;\">\n",
       "      <th></th>\n",
       "      <th>X2 house age</th>\n",
       "      <th>X3 distance to the nearest MRT station</th>\n",
       "      <th>X4 number of convenience stores</th>\n",
       "      <th>X5 latitude</th>\n",
       "      <th>X6 longitude</th>\n",
       "      <th>Y house price of unit area</th>\n",
       "    </tr>\n",
       "  </thead>\n",
       "  <tbody>\n",
       "    <tr>\n",
       "      <th>0</th>\n",
       "      <td>32.0</td>\n",
       "      <td>84.87882</td>\n",
       "      <td>10</td>\n",
       "      <td>24.98298</td>\n",
       "      <td>121.54024</td>\n",
       "      <td>37.9</td>\n",
       "    </tr>\n",
       "    <tr>\n",
       "      <th>1</th>\n",
       "      <td>19.5</td>\n",
       "      <td>306.59470</td>\n",
       "      <td>9</td>\n",
       "      <td>24.98034</td>\n",
       "      <td>121.53951</td>\n",
       "      <td>42.2</td>\n",
       "    </tr>\n",
       "    <tr>\n",
       "      <th>2</th>\n",
       "      <td>13.3</td>\n",
       "      <td>561.98450</td>\n",
       "      <td>5</td>\n",
       "      <td>24.98746</td>\n",
       "      <td>121.54391</td>\n",
       "      <td>47.3</td>\n",
       "    </tr>\n",
       "    <tr>\n",
       "      <th>3</th>\n",
       "      <td>13.3</td>\n",
       "      <td>561.98450</td>\n",
       "      <td>5</td>\n",
       "      <td>24.98746</td>\n",
       "      <td>121.54391</td>\n",
       "      <td>54.8</td>\n",
       "    </tr>\n",
       "    <tr>\n",
       "      <th>4</th>\n",
       "      <td>5.0</td>\n",
       "      <td>390.56840</td>\n",
       "      <td>5</td>\n",
       "      <td>24.97937</td>\n",
       "      <td>121.54245</td>\n",
       "      <td>43.1</td>\n",
       "    </tr>\n",
       "  </tbody>\n",
       "</table>\n",
       "</div>"
      ],
      "text/plain": [
       "   X2 house age  X3 distance to the nearest MRT station  \\\n",
       "0          32.0                                84.87882   \n",
       "1          19.5                               306.59470   \n",
       "2          13.3                               561.98450   \n",
       "3          13.3                               561.98450   \n",
       "4           5.0                               390.56840   \n",
       "\n",
       "   X4 number of convenience stores  X5 latitude  X6 longitude  \\\n",
       "0                               10     24.98298     121.54024   \n",
       "1                                9     24.98034     121.53951   \n",
       "2                                5     24.98746     121.54391   \n",
       "3                                5     24.98746     121.54391   \n",
       "4                                5     24.97937     121.54245   \n",
       "\n",
       "   Y house price of unit area  \n",
       "0                        37.9  \n",
       "1                        42.2  \n",
       "2                        47.3  \n",
       "3                        54.8  \n",
       "4                        43.1  "
      ]
     },
     "execution_count": 5,
     "metadata": {},
     "output_type": "execute_result"
    }
   ],
   "source": [
    "df = df.drop(['X1 transaction date', 'No'],axis=1)\n",
    "df.head()"
   ]
  },
  {
   "cell_type": "code",
   "execution_count": 6,
   "id": "7032de67",
   "metadata": {},
   "outputs": [
    {
     "data": {
      "text/html": [
       "<div>\n",
       "<style scoped>\n",
       "    .dataframe tbody tr th:only-of-type {\n",
       "        vertical-align: middle;\n",
       "    }\n",
       "\n",
       "    .dataframe tbody tr th {\n",
       "        vertical-align: top;\n",
       "    }\n",
       "\n",
       "    .dataframe thead th {\n",
       "        text-align: right;\n",
       "    }\n",
       "</style>\n",
       "<table border=\"1\" class=\"dataframe\">\n",
       "  <thead>\n",
       "    <tr style=\"text-align: right;\">\n",
       "      <th></th>\n",
       "      <th>X2 house age</th>\n",
       "      <th>X3 distance to the nearest MRT station</th>\n",
       "      <th>X4 number of convenience stores</th>\n",
       "      <th>X5 latitude</th>\n",
       "      <th>X6 longitude</th>\n",
       "      <th>Y house price of unit area</th>\n",
       "    </tr>\n",
       "  </thead>\n",
       "  <tbody>\n",
       "    <tr>\n",
       "      <th>count</th>\n",
       "      <td>414.000000</td>\n",
       "      <td>414.000000</td>\n",
       "      <td>414.000000</td>\n",
       "      <td>414.000000</td>\n",
       "      <td>414.000000</td>\n",
       "      <td>414.000000</td>\n",
       "    </tr>\n",
       "    <tr>\n",
       "      <th>mean</th>\n",
       "      <td>17.712560</td>\n",
       "      <td>1083.885689</td>\n",
       "      <td>4.094203</td>\n",
       "      <td>24.969030</td>\n",
       "      <td>121.533361</td>\n",
       "      <td>37.980193</td>\n",
       "    </tr>\n",
       "    <tr>\n",
       "      <th>std</th>\n",
       "      <td>11.392485</td>\n",
       "      <td>1262.109595</td>\n",
       "      <td>2.945562</td>\n",
       "      <td>0.012410</td>\n",
       "      <td>0.015347</td>\n",
       "      <td>13.606488</td>\n",
       "    </tr>\n",
       "    <tr>\n",
       "      <th>min</th>\n",
       "      <td>0.000000</td>\n",
       "      <td>23.382840</td>\n",
       "      <td>0.000000</td>\n",
       "      <td>24.932070</td>\n",
       "      <td>121.473530</td>\n",
       "      <td>7.600000</td>\n",
       "    </tr>\n",
       "    <tr>\n",
       "      <th>25%</th>\n",
       "      <td>9.025000</td>\n",
       "      <td>289.324800</td>\n",
       "      <td>1.000000</td>\n",
       "      <td>24.963000</td>\n",
       "      <td>121.528085</td>\n",
       "      <td>27.700000</td>\n",
       "    </tr>\n",
       "    <tr>\n",
       "      <th>50%</th>\n",
       "      <td>16.100000</td>\n",
       "      <td>492.231300</td>\n",
       "      <td>4.000000</td>\n",
       "      <td>24.971100</td>\n",
       "      <td>121.538630</td>\n",
       "      <td>38.450000</td>\n",
       "    </tr>\n",
       "    <tr>\n",
       "      <th>75%</th>\n",
       "      <td>28.150000</td>\n",
       "      <td>1454.279000</td>\n",
       "      <td>6.000000</td>\n",
       "      <td>24.977455</td>\n",
       "      <td>121.543305</td>\n",
       "      <td>46.600000</td>\n",
       "    </tr>\n",
       "    <tr>\n",
       "      <th>max</th>\n",
       "      <td>43.800000</td>\n",
       "      <td>6488.021000</td>\n",
       "      <td>10.000000</td>\n",
       "      <td>25.014590</td>\n",
       "      <td>121.566270</td>\n",
       "      <td>117.500000</td>\n",
       "    </tr>\n",
       "  </tbody>\n",
       "</table>\n",
       "</div>"
      ],
      "text/plain": [
       "       X2 house age  X3 distance to the nearest MRT station  \\\n",
       "count    414.000000                              414.000000   \n",
       "mean      17.712560                             1083.885689   \n",
       "std       11.392485                             1262.109595   \n",
       "min        0.000000                               23.382840   \n",
       "25%        9.025000                              289.324800   \n",
       "50%       16.100000                              492.231300   \n",
       "75%       28.150000                             1454.279000   \n",
       "max       43.800000                             6488.021000   \n",
       "\n",
       "       X4 number of convenience stores  X5 latitude  X6 longitude  \\\n",
       "count                       414.000000   414.000000    414.000000   \n",
       "mean                          4.094203    24.969030    121.533361   \n",
       "std                           2.945562     0.012410      0.015347   \n",
       "min                           0.000000    24.932070    121.473530   \n",
       "25%                           1.000000    24.963000    121.528085   \n",
       "50%                           4.000000    24.971100    121.538630   \n",
       "75%                           6.000000    24.977455    121.543305   \n",
       "max                          10.000000    25.014590    121.566270   \n",
       "\n",
       "       Y house price of unit area  \n",
       "count                  414.000000  \n",
       "mean                    37.980193  \n",
       "std                     13.606488  \n",
       "min                      7.600000  \n",
       "25%                     27.700000  \n",
       "50%                     38.450000  \n",
       "75%                     46.600000  \n",
       "max                    117.500000  "
      ]
     },
     "execution_count": 6,
     "metadata": {},
     "output_type": "execute_result"
    }
   ],
   "source": [
    "df.describe()"
   ]
  },
  {
   "cell_type": "code",
   "execution_count": 7,
   "id": "d4391348",
   "metadata": {},
   "outputs": [
    {
     "data": {
      "text/plain": [
       "Index(['X2 house age', 'X3 distance to the nearest MRT station',\n",
       "       'X4 number of convenience stores', 'X5 latitude', 'X6 longitude',\n",
       "       'Y house price of unit area'],\n",
       "      dtype='object')"
      ]
     },
     "execution_count": 7,
     "metadata": {},
     "output_type": "execute_result"
    }
   ],
   "source": [
    "df.columns"
   ]
  },
  {
   "cell_type": "code",
   "execution_count": 8,
   "id": "333341c0",
   "metadata": {},
   "outputs": [],
   "source": [
    "df.rename(columns = {'X2 house age':'House_age', 'X3 distance to the nearest MRT station':'Distance_to_the_nearest_MRT_station',\n",
    "       'X4 number of convenience stores':'Number_of_convenience_stores', 'X5 latitude':'Latitude', 'X6 longitude':'Longitude',\n",
    "       'Y house price of unit area':'House_price_of_unit_area'},inplace=True)"
   ]
  },
  {
   "cell_type": "code",
   "execution_count": 9,
   "id": "97ee493a",
   "metadata": {},
   "outputs": [
    {
     "data": {
      "text/plain": [
       "array([[<AxesSubplot:title={'center':'House_age'}>,\n",
       "        <AxesSubplot:title={'center':'Distance_to_the_nearest_MRT_station'}>],\n",
       "       [<AxesSubplot:title={'center':'Number_of_convenience_stores'}>,\n",
       "        <AxesSubplot:title={'center':'Latitude'}>],\n",
       "       [<AxesSubplot:title={'center':'Longitude'}>,\n",
       "        <AxesSubplot:title={'center':'House_price_of_unit_area'}>]],\n",
       "      dtype=object)"
      ]
     },
     "execution_count": 9,
     "metadata": {},
     "output_type": "execute_result"
    },
    {
     "data": {
      "image/png": "[encoded data removed]",
      "text/plain": [
       "<Figure size 720x1080 with 6 Axes>"
      ]
     },
     "metadata": {
      "needs_background": "light"
     },
     "output_type": "display_data"
    }
   ],
   "source": [
    "df.hist(figsize=(10,15))"
   ]
  },
  {
   "cell_type": "code",
   "execution_count": 10,
   "id": "4908d838",
   "metadata": {},
   "outputs": [
    {
     "data": {
      "text/plain": [
       "<AxesSubplot:>"
      ]
     },
     "execution_count": 10,
     "metadata": {},
     "output_type": "execute_result"
    },
    {
     "data": {
      "image/png": "[encoded data removed]",
      "text/plain": [
       "<Figure size 720x432 with 2 Axes>"
      ]
     },
     "metadata": {
      "needs_background": "light"
     },
     "output_type": "display_data"
    }
   ],
   "source": [
    "corr = df.corr()\n",
    "plt.figure(figsize=(10, 6))\n",
    "sns.heatmap(corr,annot=True)"
   ]
  },
  {
   "cell_type": "code",
   "execution_count": 11,
   "id": "b082d0dc",
   "metadata": {},
   "outputs": [
    {
     "data": {
      "text/html": [
       "<div>\n",
       "<style scoped>\n",
       "    .dataframe tbody tr th:only-of-type {\n",
       "        vertical-align: middle;\n",
       "    }\n",
       "\n",
       "    .dataframe tbody tr th {\n",
       "        vertical-align: top;\n",
       "    }\n",
       "\n",
       "    .dataframe thead th {\n",
       "        text-align: right;\n",
       "    }\n",
       "</style>\n",
       "<table border=\"1\" class=\"dataframe\">\n",
       "  <thead>\n",
       "    <tr style=\"text-align: right;\">\n",
       "      <th></th>\n",
       "      <th>House_age</th>\n",
       "      <th>Distance_to_the_nearest_MRT_station</th>\n",
       "      <th>Number_of_convenience_stores</th>\n",
       "      <th>Latitude</th>\n",
       "      <th>Longitude</th>\n",
       "      <th>House_price_of_unit_area</th>\n",
       "    </tr>\n",
       "  </thead>\n",
       "  <tbody>\n",
       "    <tr>\n",
       "      <th>0</th>\n",
       "      <td>32.0</td>\n",
       "      <td>84.87882</td>\n",
       "      <td>10</td>\n",
       "      <td>24.98298</td>\n",
       "      <td>121.54024</td>\n",
       "      <td>37.9</td>\n",
       "    </tr>\n",
       "    <tr>\n",
       "      <th>1</th>\n",
       "      <td>19.5</td>\n",
       "      <td>306.59470</td>\n",
       "      <td>9</td>\n",
       "      <td>24.98034</td>\n",
       "      <td>121.53951</td>\n",
       "      <td>42.2</td>\n",
       "    </tr>\n",
       "    <tr>\n",
       "      <th>2</th>\n",
       "      <td>13.3</td>\n",
       "      <td>561.98450</td>\n",
       "      <td>5</td>\n",
       "      <td>24.98746</td>\n",
       "      <td>121.54391</td>\n",
       "      <td>47.3</td>\n",
       "    </tr>\n",
       "    <tr>\n",
       "      <th>3</th>\n",
       "      <td>13.3</td>\n",
       "      <td>561.98450</td>\n",
       "      <td>5</td>\n",
       "      <td>24.98746</td>\n",
       "      <td>121.54391</td>\n",
       "      <td>54.8</td>\n",
       "    </tr>\n",
       "    <tr>\n",
       "      <th>4</th>\n",
       "      <td>5.0</td>\n",
       "      <td>390.56840</td>\n",
       "      <td>5</td>\n",
       "      <td>24.97937</td>\n",
       "      <td>121.54245</td>\n",
       "      <td>43.1</td>\n",
       "    </tr>\n",
       "  </tbody>\n",
       "</table>\n",
       "</div>"
      ],
      "text/plain": [
       "   House_age  Distance_to_the_nearest_MRT_station  \\\n",
       "0       32.0                             84.87882   \n",
       "1       19.5                            306.59470   \n",
       "2       13.3                            561.98450   \n",
       "3       13.3                            561.98450   \n",
       "4        5.0                            390.56840   \n",
       "\n",
       "   Number_of_convenience_stores  Latitude  Longitude  House_price_of_unit_area  \n",
       "0                            10  24.98298  121.54024                      37.9  \n",
       "1                             9  24.98034  121.53951                      42.2  \n",
       "2                             5  24.98746  121.54391                      47.3  \n",
       "3                             5  24.98746  121.54391                      54.8  \n",
       "4                             5  24.97937  121.54245                      43.1  "
      ]
     },
     "execution_count": 11,
     "metadata": {},
     "output_type": "execute_result"
    }
   ],
   "source": [
    "df.head()"
   ]
  },
  {
   "cell_type": "code",
   "execution_count": 12,
   "id": "8cc3a249",
   "metadata": {},
   "outputs": [],
   "source": [
    "df['Distance_to_the_nearest_MRT_station'] = df['Distance_to_the_nearest_MRT_station'].round()\n",
    "df['Latitude'] = df['Latitude'].round()\n",
    "df['Longitude'] = df['Longitude'].round()\n",
    "df['Longitude'] = df['Longitude'].round()"
   ]
  },
  {
   "cell_type": "code",
   "execution_count": 13,
   "id": "0ef77ef5",
   "metadata": {},
   "outputs": [
    {
     "data": {
      "text/html": [
       "<div>\n",
       "<style scoped>\n",
       "    .dataframe tbody tr th:only-of-type {\n",
       "        vertical-align: middle;\n",
       "    }\n",
       "\n",
       "    .dataframe tbody tr th {\n",
       "        vertical-align: top;\n",
       "    }\n",
       "\n",
       "    .dataframe thead th {\n",
       "        text-align: right;\n",
       "    }\n",
       "</style>\n",
       "<table border=\"1\" class=\"dataframe\">\n",
       "  <thead>\n",
       "    <tr style=\"text-align: right;\">\n",
       "      <th></th>\n",
       "      <th>House_age</th>\n",
       "      <th>Distance_to_the_nearest_MRT_station</th>\n",
       "      <th>Number_of_convenience_stores</th>\n",
       "      <th>Latitude</th>\n",
       "      <th>Longitude</th>\n",
       "      <th>House_price_of_unit_area</th>\n",
       "    </tr>\n",
       "  </thead>\n",
       "  <tbody>\n",
       "    <tr>\n",
       "      <th>0</th>\n",
       "      <td>32.0</td>\n",
       "      <td>85.0</td>\n",
       "      <td>10</td>\n",
       "      <td>25.0</td>\n",
       "      <td>122.0</td>\n",
       "      <td>37.9</td>\n",
       "    </tr>\n",
       "    <tr>\n",
       "      <th>1</th>\n",
       "      <td>19.5</td>\n",
       "      <td>307.0</td>\n",
       "      <td>9</td>\n",
       "      <td>25.0</td>\n",
       "      <td>122.0</td>\n",
       "      <td>42.2</td>\n",
       "    </tr>\n",
       "    <tr>\n",
       "      <th>2</th>\n",
       "      <td>13.3</td>\n",
       "      <td>562.0</td>\n",
       "      <td>5</td>\n",
       "      <td>25.0</td>\n",
       "      <td>122.0</td>\n",
       "      <td>47.3</td>\n",
       "    </tr>\n",
       "    <tr>\n",
       "      <th>3</th>\n",
       "      <td>13.3</td>\n",
       "      <td>562.0</td>\n",
       "      <td>5</td>\n",
       "      <td>25.0</td>\n",
       "      <td>122.0</td>\n",
       "      <td>54.8</td>\n",
       "    </tr>\n",
       "    <tr>\n",
       "      <th>4</th>\n",
       "      <td>5.0</td>\n",
       "      <td>391.0</td>\n",
       "      <td>5</td>\n",
       "      <td>25.0</td>\n",
       "      <td>122.0</td>\n",
       "      <td>43.1</td>\n",
       "    </tr>\n",
       "  </tbody>\n",
       "</table>\n",
       "</div>"
      ],
      "text/plain": [
       "   House_age  Distance_to_the_nearest_MRT_station  \\\n",
       "0       32.0                                 85.0   \n",
       "1       19.5                                307.0   \n",
       "2       13.3                                562.0   \n",
       "3       13.3                                562.0   \n",
       "4        5.0                                391.0   \n",
       "\n",
       "   Number_of_convenience_stores  Latitude  Longitude  House_price_of_unit_area  \n",
       "0                            10      25.0      122.0                      37.9  \n",
       "1                             9      25.0      122.0                      42.2  \n",
       "2                             5      25.0      122.0                      47.3  \n",
       "3                             5      25.0      122.0                      54.8  \n",
       "4                             5      25.0      122.0                      43.1  "
      ]
     },
     "execution_count": 13,
     "metadata": {},
     "output_type": "execute_result"
    }
   ],
   "source": [
    "df.head()"
   ]
  },
  {
   "cell_type": "code",
   "execution_count": 14,
   "id": "f9a42398",
   "metadata": {},
   "outputs": [
    {
     "data": {
      "text/plain": [
       "(array([122., 121.]), array([25.]))"
      ]
     },
     "execution_count": 14,
     "metadata": {},
     "output_type": "execute_result"
    }
   ],
   "source": [
    "df['Longitude'].unique(), df['Latitude'].unique()"
   ]
  },
  {
   "cell_type": "code",
   "execution_count": 15,
   "id": "22ace10a",
   "metadata": {},
   "outputs": [
    {
     "data": {
      "text/plain": [
       "House_age                              0\n",
       "Distance_to_the_nearest_MRT_station    0\n",
       "Number_of_convenience_stores           0\n",
       "Latitude                               0\n",
       "Longitude                              0\n",
       "House_price_of_unit_area               0\n",
       "dtype: int64"
      ]
     },
     "execution_count": 15,
     "metadata": {},
     "output_type": "execute_result"
    }
   ],
   "source": [
    "# checking for null values\n",
    "df.isna().sum()"
   ]
  },
  {
   "cell_type": "code",
   "execution_count": 16,
   "id": "e47c82ef",
   "metadata": {},
   "outputs": [
    {
     "data": {
      "text/plain": [
       "array([10,  9,  5,  3,  7,  6,  1,  4,  2,  8,  0], dtype=int64)"
      ]
     },
     "execution_count": 16,
     "metadata": {},
     "output_type": "execute_result"
    }
   ],
   "source": [
    "df['Number_of_convenience_stores'].unique()"
   ]
  },
  {
   "cell_type": "code",
   "execution_count": 17,
   "id": "b01fa365",
   "metadata": {},
   "outputs": [
    {
     "name": "stderr",
     "output_type": "stream",
     "text": [
      "C:\\Users\\91891\\anaconda3\\lib\\site-packages\\seaborn\\_decorators.py:36: FutureWarning: Pass the following variables as keyword args: x, y. From version 0.12, the only valid positional argument will be `data`, and passing other arguments without an explicit keyword will result in an error or misinterpretation.\n",
      "  warnings.warn(\n"
     ]
    },
    {
     "data": {
      "text/plain": [
       "<AxesSubplot:xlabel='Number_of_convenience_stores', ylabel='House_price_of_unit_area'>"
      ]
     },
     "execution_count": 17,
     "metadata": {},
     "output_type": "execute_result"
    },
    {
     "data": {
      "image/png": "[encoded data removed]",
      "text/plain": [
       "<Figure size 432x288 with 1 Axes>"
      ]
     },
     "metadata": {
      "needs_background": "light"
     },
     "output_type": "display_data"
    }
   ],
   "source": [
    "sns.barplot(df['Number_of_convenience_stores'], df['House_price_of_unit_area'])"
   ]
  },
  {
   "cell_type": "markdown",
   "id": "1c392626",
   "metadata": {},
   "source": [
    "The house prices increases as the number of convenience stores in the locality increases.\n",
    "This shows that there is a <b> positive </b> relation between these attributes"
   ]
  },
  {
   "cell_type": "code",
   "execution_count": 18,
   "id": "e301a4fe",
   "metadata": {},
   "outputs": [
    {
     "name": "stderr",
     "output_type": "stream",
     "text": [
      "C:\\Users\\91891\\anaconda3\\lib\\site-packages\\seaborn\\_decorators.py:36: FutureWarning: Pass the following variables as keyword args: x, y. From version 0.12, the only valid positional argument will be `data`, and passing other arguments without an explicit keyword will result in an error or misinterpretation.\n",
      "  warnings.warn(\n"
     ]
    },
    {
     "data": {
      "text/plain": [
       "<AxesSubplot:xlabel='House_age', ylabel='House_price_of_unit_area'>"
      ]
     },
     "execution_count": 18,
     "metadata": {},
     "output_type": "execute_result"
    },
    {
     "data": {
      "image/png": "[encoded data removed]",
      "text/plain": [
       "<Figure size 432x288 with 1 Axes>"
      ]
     },
     "metadata": {
      "needs_background": "light"
     },
     "output_type": "display_data"
    }
   ],
   "source": [
    "sns.regplot(df['House_age'], df['House_price_of_unit_area'])"
   ]
  },
  {
   "cell_type": "markdown",
   "id": "55aadac7",
   "metadata": {},
   "source": [
    "The trend line shows that the house prices decreases as the age of the houses increases. This shows that there is a <b>negative</b> relation between these attributes"
   ]
  },
  {
   "cell_type": "code",
   "execution_count": 19,
   "id": "eebfe4ef",
   "metadata": {},
   "outputs": [
    {
     "name": "stderr",
     "output_type": "stream",
     "text": [
      "C:\\Users\\91891\\anaconda3\\lib\\site-packages\\seaborn\\_decorators.py:36: FutureWarning: Pass the following variables as keyword args: x, y. From version 0.12, the only valid positional argument will be `data`, and passing other arguments without an explicit keyword will result in an error or misinterpretation.\n",
      "  warnings.warn(\n"
     ]
    },
    {
     "data": {
      "text/plain": [
       "<AxesSubplot:xlabel='Distance_to_the_nearest_MRT_station', ylabel='House_price_of_unit_area'>"
      ]
     },
     "execution_count": 19,
     "metadata": {},
     "output_type": "execute_result"
    },
    {
     "data": {
      "image/png": "[encoded data removed]",
      "text/plain": [
       "<Figure size 432x288 with 1 Axes>"
      ]
     },
     "metadata": {
      "needs_background": "light"
     },
     "output_type": "display_data"
    }
   ],
   "source": [
    "sns.regplot(df['Distance_to_the_nearest_MRT_station'], df['House_price_of_unit_area'])"
   ]
  },
  {
   "cell_type": "markdown",
   "id": "2eb842b4",
   "metadata": {},
   "source": [
    "The slope of the trend line is negative which shows that the house prices decreases as they are farther from the nearest MRT statio. This shows that there is a <b>negative</b> relation between these attributes"
   ]
  },
  {
   "cell_type": "code",
   "execution_count": 20,
   "id": "7b5d29e1",
   "metadata": {},
   "outputs": [
    {
     "name": "stderr",
     "output_type": "stream",
     "text": [
      "C:\\Users\\91891\\anaconda3\\lib\\site-packages\\seaborn\\_decorators.py:36: FutureWarning: Pass the following variables as keyword args: x, y. From version 0.12, the only valid positional argument will be `data`, and passing other arguments without an explicit keyword will result in an error or misinterpretation.\n",
      "  warnings.warn(\n"
     ]
    },
    {
     "data": {
      "text/plain": [
       "<AxesSubplot:xlabel='Distance_to_the_nearest_MRT_station', ylabel='House_age'>"
      ]
     },
     "execution_count": 20,
     "metadata": {},
     "output_type": "execute_result"
    },
    {
     "data": {
      "image/png": "[encoded data removed]",
      "text/plain": [
       "<Figure size 432x288 with 1 Axes>"
      ]
     },
     "metadata": {
      "needs_background": "light"
     },
     "output_type": "display_data"
    }
   ],
   "source": [
    "sns.regplot(df['Distance_to_the_nearest_MRT_station'], df['House_age'])"
   ]
  },
  {
   "cell_type": "markdown",
   "id": "ced9cca2",
   "metadata": {},
   "source": [
    "This shows that the houses that are on average 10-30 years old have higher distances to MRT station, where as the houses that are either 35-40 years old are relatively closer to the MRT station"
   ]
  },
  {
   "cell_type": "markdown",
   "id": "48eb1c1b",
   "metadata": {},
   "source": [
    "### Conclusion from EDA and graph plots"
   ]
  },
  {
   "cell_type": "markdown",
   "id": "dac1c589",
   "metadata": {},
   "source": [
    "1. Data is clean with no null values.\n",
    "2. Data doesn't have high correlation among the attributes.\n",
    "3. Houses with more convenience stores and newer houses have higher prices\n",
    "4. Houses that are old but have more MRT stations near to them have lower prices"
   ]
  },
  {
   "cell_type": "markdown",
   "id": "a649db8a",
   "metadata": {},
   "source": [
    "### Outlier detection"
   ]
  },
  {
   "cell_type": "code",
   "execution_count": 21,
   "id": "31ae8ee2",
   "metadata": {},
   "outputs": [
    {
     "data": {
      "image/png": "[encoded data removed]",
      "text/plain": [
       "<Figure size 936x360 with 6 Axes>"
      ]
     },
     "metadata": {
      "needs_background": "light"
     },
     "output_type": "display_data"
    }
   ],
   "source": [
    "plt.figure(figsize=(13,5))\n",
    "\n",
    "for feat, grd in zip(df, range(231,237)):\n",
    "    plt.subplot(grd)\n",
    "    sns.boxplot(y=df[feat], color='green')\n",
    "    plt.ylabel('Value')\n",
    "    plt.title('Boxplot\\n%s'%feat)\n",
    "plt.tight_layout()"
   ]
  },
  {
   "cell_type": "markdown",
   "id": "890b20b4",
   "metadata": {},
   "source": [
    "### Splitting the data"
   ]
  },
  {
   "cell_type": "code",
   "execution_count": 22,
   "id": "c6400e58",
   "metadata": {},
   "outputs": [
    {
     "data": {
      "text/plain": [
       "Index(['House_age', 'Distance_to_the_nearest_MRT_station',\n",
       "       'Number_of_convenience_stores', 'Latitude', 'Longitude',\n",
       "       'House_price_of_unit_area'],\n",
       "      dtype='object')"
      ]
     },
     "execution_count": 22,
     "metadata": {},
     "output_type": "execute_result"
    }
   ],
   "source": [
    "df.columns"
   ]
  },
  {
   "cell_type": "code",
   "execution_count": 23,
   "id": "057e92d4",
   "metadata": {},
   "outputs": [],
   "source": [
    "X2 = df.drop(['House_price_of_unit_area', 'Latitude', 'Longitude'],axis=1)\n",
    "y2 = df[['House_price_of_unit_area']]"
   ]
  },
  {
   "cell_type": "code",
   "execution_count": 24,
   "id": "abd428b9",
   "metadata": {},
   "outputs": [],
   "source": [
    "from sklearn.model_selection import train_test_split\n",
    "X_train, X_test, y_train, y_test = train_test_split(X2, y2, test_size=0.2, random_state=0)"
   ]
  },
  {
   "cell_type": "code",
   "execution_count": 25,
   "id": "aaeb30e6",
   "metadata": {},
   "outputs": [
    {
     "data": {
      "text/plain": [
       "((331, 3), (83, 3), (331, 1), (83, 1))"
      ]
     },
     "execution_count": 25,
     "metadata": {},
     "output_type": "execute_result"
    }
   ],
   "source": [
    "X_train.shape, X_test.shape, y_train.shape, y_test.shape"
   ]
  },
  {
   "cell_type": "markdown",
   "id": "328b9a7a",
   "metadata": {},
   "source": [
    "## Statistical Analysis"
   ]
  },
  {
   "cell_type": "code",
   "execution_count": 26,
   "id": "173cdf74",
   "metadata": {
    "scrolled": true
   },
   "outputs": [
    {
     "data": {
      "image/png": "[encoded data removed]",
      "text/plain": [
       "<Figure size 432x288 with 1 Axes>"
      ]
     },
     "metadata": {
      "needs_background": "light"
     },
     "output_type": "display_data"
    }
   ],
   "source": [
    "from statsmodels.graphics.gofplots import qqplot\n",
    "\n",
    "qqplot(X2, line='s')\n",
    "plt.show()"
   ]
  },
  {
   "cell_type": "code",
   "execution_count": 27,
   "id": "42fe0275",
   "metadata": {},
   "outputs": [
    {
     "name": "stdout",
     "output_type": "stream",
     "text": [
      "[0.38153742 1.88188825 0.15404583]\n"
     ]
    }
   ],
   "source": [
    "from scipy.stats import skew\n",
    "\n",
    "print(skew(X2))"
   ]
  },
  {
   "cell_type": "markdown",
   "id": "917c76af",
   "metadata": {},
   "source": [
    "Data does not appear to be following the Normal distribution. Both positively and negatively skewed data is observed."
   ]
  },
  {
   "cell_type": "markdown",
   "id": "f597d8c8",
   "metadata": {},
   "source": [
    "# OLS regression analysis"
   ]
  },
  {
   "cell_type": "code",
   "execution_count": 28,
   "id": "bc710035",
   "metadata": {},
   "outputs": [
    {
     "name": "stdout",
     "output_type": "stream",
     "text": [
      "                                    OLS Regression Results                                   \n",
      "=============================================================================================\n",
      "Dep. Variable:     House_price_of_unit_area   R-squared (uncentered):                   0.825\n",
      "Model:                                  OLS   Adj. R-squared (uncentered):              0.823\n",
      "Method:                       Least Squares   F-statistic:                              514.3\n",
      "Date:                      Fri, 18 Mar 2022   Prob (F-statistic):                   1.29e-123\n",
      "Time:                              12:32:32   Log-Likelihood:                         -1405.6\n",
      "No. Observations:                       331   AIC:                                      2817.\n",
      "Df Residuals:                           328   BIC:                                      2829.\n",
      "Df Model:                                 3                                                  \n",
      "Covariance Type:                  nonrobust                                                  \n",
      "=======================================================================================================\n",
      "                                          coef    std err          t      P>|t|      [0.025      0.975]\n",
      "-------------------------------------------------------------------------------------------------------\n",
      "House_age                               0.3033      0.074      4.091      0.000       0.157       0.449\n",
      "Distance_to_the_nearest_MRT_station     0.0041      0.001      5.940      0.000       0.003       0.005\n",
      "Number_of_convenience_stores            5.8793      0.264     22.269      0.000       5.360       6.399\n",
      "==============================================================================\n",
      "Omnibus:                       75.084   Durbin-Watson:                   1.848\n",
      "Prob(Omnibus):                  0.000   Jarque-Bera (JB):              297.142\n",
      "Skew:                           0.914   Prob(JB):                     3.00e-65\n",
      "Kurtosis:                       7.266   Cond. No.                         482.\n",
      "==============================================================================\n",
      "\n",
      "Notes:\n",
      "[1] R² is computed without centering (uncentered) since the model does not contain a constant.\n",
      "[2] Standard Errors assume that the covariance matrix of the errors is correctly specified.\n"
     ]
    }
   ],
   "source": [
    "import statsmodels.api as sm\n",
    "\n",
    "model_ols = sm.OLS(y_train, X_train)\n",
    "fitted = model_ols.fit()\n",
    "print(fitted.summary())"
   ]
  },
  {
   "cell_type": "markdown",
   "id": "dc1ed1a1",
   "metadata": {},
   "source": [
    "# KNN Regressor model construction"
   ]
  },
  {
   "cell_type": "code",
   "execution_count": 29,
   "id": "ee124264",
   "metadata": {},
   "outputs": [
    {
     "data": {
      "text/plain": [
       "KNeighborsRegressor(algorithm='brute', n_neighbors=4, p=1)"
      ]
     },
     "execution_count": 29,
     "metadata": {},
     "output_type": "execute_result"
    }
   ],
   "source": [
    "from sklearn.neighbors import KNeighborsRegressor as knn\n",
    "\n",
    "model = knn(n_neighbors=4, p=1, algorithm = 'brute')\n",
    "model.fit(X_train, y_train)"
   ]
  },
  {
   "cell_type": "code",
   "execution_count": 30,
   "id": "d7c603c6",
   "metadata": {},
   "outputs": [
    {
     "data": {
      "text/plain": [
       "array([[50.175],\n",
       "       [18.4  ],\n",
       "       [51.2  ],\n",
       "       [18.4  ],\n",
       "       [33.15 ],\n",
       "       [37.775],\n",
       "       [40.9  ],\n",
       "       [35.725],\n",
       "       [44.825],\n",
       "       [28.325],\n",
       "       [64.6  ],\n",
       "       [41.225],\n",
       "       [45.25 ],\n",
       "       [43.875],\n",
       "       [63.925],\n",
       "       [36.725],\n",
       "       [38.15 ],\n",
       "       [47.725],\n",
       "       [41.05 ],\n",
       "       [40.5  ],\n",
       "       [54.25 ],\n",
       "       [27.8  ],\n",
       "       [24.05 ],\n",
       "       [48.675],\n",
       "       [45.2  ],\n",
       "       [43.725],\n",
       "       [39.65 ],\n",
       "       [25.375],\n",
       "       [45.775],\n",
       "       [31.875],\n",
       "       [49.725],\n",
       "       [33.525],\n",
       "       [44.3  ],\n",
       "       [39.45 ],\n",
       "       [39.65 ],\n",
       "       [27.8  ],\n",
       "       [53.45 ],\n",
       "       [28.2  ],\n",
       "       [50.3  ],\n",
       "       [14.9  ],\n",
       "       [44.875],\n",
       "       [43.325],\n",
       "       [26.175],\n",
       "       [50.225],\n",
       "       [16.8  ],\n",
       "       [51.8  ],\n",
       "       [37.95 ],\n",
       "       [17.75 ],\n",
       "       [28.325],\n",
       "       [55.625],\n",
       "       [59.7  ],\n",
       "       [37.025],\n",
       "       [51.825],\n",
       "       [19.1  ],\n",
       "       [27.8  ],\n",
       "       [44.575],\n",
       "       [52.7  ],\n",
       "       [37.975],\n",
       "       [64.6  ],\n",
       "       [33.525],\n",
       "       [36.725],\n",
       "       [53.45 ],\n",
       "       [46.15 ],\n",
       "       [44.825],\n",
       "       [40.5  ],\n",
       "       [24.475],\n",
       "       [19.4  ],\n",
       "       [24.   ],\n",
       "       [52.7  ],\n",
       "       [37.775],\n",
       "       [28.275],\n",
       "       [45.775],\n",
       "       [40.5  ],\n",
       "       [28.8  ],\n",
       "       [37.475],\n",
       "       [30.525],\n",
       "       [28.025],\n",
       "       [18.4  ],\n",
       "       [49.65 ],\n",
       "       [40.375],\n",
       "       [51.7  ],\n",
       "       [27.8  ],\n",
       "       [36.35 ]])"
      ]
     },
     "execution_count": 30,
     "metadata": {},
     "output_type": "execute_result"
    }
   ],
   "source": [
    "y_pred = model.predict(X_test)\n",
    "y_pred"
   ]
  },
  {
   "cell_type": "code",
   "execution_count": 31,
   "id": "a84c807c",
   "metadata": {},
   "outputs": [
    {
     "data": {
      "text/plain": [
       "0.5969306051457761"
      ]
     },
     "execution_count": 31,
     "metadata": {},
     "output_type": "execute_result"
    }
   ],
   "source": [
    "model.score(X_test, y_test)"
   ]
  },
  {
   "cell_type": "code",
   "execution_count": 32,
   "id": "f984bbb9",
   "metadata": {},
   "outputs": [
    {
     "name": "stdout",
     "output_type": "stream",
     "text": [
      "k=1, train_accuracy = 97.61, test_accuracy = 53.38\n",
      "k=3, train_accuracy = 81.36, test_accuracy = 48.78\n",
      "k=5, train_accuracy = 76.61, test_accuracy = 61.81\n",
      "k=7, train_accuracy = 72.02, test_accuracy = 65.66\n",
      "k=9, train_accuracy = 68.23, test_accuracy = 65.67\n",
      "k=11, train_accuracy = 64.90, test_accuracy = 66.21\n",
      "k=13, train_accuracy = 64.78, test_accuracy = 67.66\n",
      "k=15, train_accuracy = 64.13, test_accuracy = 68.40\n",
      "k=17, train_accuracy = 63.30, test_accuracy = 67.76\n",
      "k=19, train_accuracy = 62.22, test_accuracy = 67.33\n",
      "k=21, train_accuracy = 61.76, test_accuracy = 67.75\n",
      "k=23, train_accuracy = 61.08, test_accuracy = 67.86\n",
      "k=25, train_accuracy = 60.68, test_accuracy = 67.36\n",
      "k=27, train_accuracy = 60.07, test_accuracy = 66.72\n",
      "k=29, train_accuracy = 59.34, test_accuracy = 65.88\n",
      "k=31, train_accuracy = 59.40, test_accuracy = 66.78\n",
      "k=33, train_accuracy = 59.05, test_accuracy = 66.44\n",
      "k=35, train_accuracy = 59.25, test_accuracy = 66.77\n",
      "k=37, train_accuracy = 59.26, test_accuracy = 66.41\n",
      "k=39, train_accuracy = 58.81, test_accuracy = 65.74\n",
      "k=41, train_accuracy = 58.34, test_accuracy = 65.29\n",
      "k=43, train_accuracy = 57.57, test_accuracy = 65.18\n",
      "k=45, train_accuracy = 57.13, test_accuracy = 65.28\n",
      "k=47, train_accuracy = 56.82, test_accuracy = 65.24\n",
      "k=49, train_accuracy = 56.72, test_accuracy = 65.16\n",
      "k=51, train_accuracy = 56.53, test_accuracy = 65.16\n",
      "k=53, train_accuracy = 56.23, test_accuracy = 65.66\n",
      "k=55, train_accuracy = 55.87, test_accuracy = 65.85\n",
      "k=57, train_accuracy = 55.76, test_accuracy = 65.43\n",
      "k=59, train_accuracy = 55.74, test_accuracy = 65.81\n",
      "k=61, train_accuracy = 55.73, test_accuracy = 66.03\n",
      "k=63, train_accuracy = 55.39, test_accuracy = 65.85\n",
      "k=65, train_accuracy = 54.96, test_accuracy = 65.30\n",
      "k=67, train_accuracy = 55.05, test_accuracy = 65.22\n",
      "k=69, train_accuracy = 54.78, test_accuracy = 64.76\n",
      "k=71, train_accuracy = 54.65, test_accuracy = 64.81\n",
      "k=73, train_accuracy = 54.29, test_accuracy = 64.52\n",
      "k=75, train_accuracy = 54.26, test_accuracy = 64.67\n",
      "k=77, train_accuracy = 54.07, test_accuracy = 64.67\n",
      "k=79, train_accuracy = 53.97, test_accuracy = 64.13\n",
      "k=81, train_accuracy = 53.58, test_accuracy = 63.69\n",
      "k=83, train_accuracy = 53.23, test_accuracy = 63.34\n",
      "k=85, train_accuracy = 52.92, test_accuracy = 63.05\n",
      "k=87, train_accuracy = 52.68, test_accuracy = 63.00\n",
      "k=89, train_accuracy = 52.52, test_accuracy = 62.64\n",
      "k=91, train_accuracy = 52.43, test_accuracy = 62.38\n",
      "k=93, train_accuracy = 52.25, test_accuracy = 61.93\n",
      "k=95, train_accuracy = 51.77, test_accuracy = 61.18\n",
      "k=97, train_accuracy = 51.38, test_accuracy = 60.84\n",
      "k=99, train_accuracy = 51.15, test_accuracy = 60.69\n"
     ]
    }
   ],
   "source": [
    "k_values = np.arange(1,100,2)\n",
    "\n",
    "\n",
    "train_score_arr = []\n",
    "val_score_arr = []\n",
    "\n",
    "for k in k_values:\n",
    "    model = knn(n_neighbors = k, p=1)\n",
    "    model.fit(X_train, y_train)\n",
    "    \n",
    "    train_score = model.score(X_train, y_train)\n",
    "    train_score_arr.append(train_score*100)\n",
    "    \n",
    "    val_score = model.score(X_test, y_test)\n",
    "    val_score_arr.append(val_score*100)\n",
    "    \n",
    "    print(f'k={k}, train_accuracy = {train_score*100:.2f}, test_accuracy = {val_score*100:.2f}')"
   ]
  },
  {
   "cell_type": "code",
   "execution_count": 33,
   "id": "15665b08",
   "metadata": {},
   "outputs": [
    {
     "data": {
      "text/plain": [
       "[<matplotlib.lines.Line2D at 0x1b1858402e0>]"
      ]
     },
     "execution_count": 33,
     "metadata": {},
     "output_type": "execute_result"
    },
    {
     "data": {
      "image/png": "[encoded data removed]",
      "text/plain": [
       "<Figure size 432x288 with 1 Axes>"
      ]
     },
     "metadata": {
      "needs_background": "light"
     },
     "output_type": "display_data"
    }
   ],
   "source": [
    "plt.plot(k_values, train_score_arr, 'g')\n",
    "plt.plot(k_values, val_score_arr, 'b')"
   ]
  },
  {
   "cell_type": "markdown",
   "id": "3c88190b",
   "metadata": {},
   "source": [
    "From the graph, it can be concluded that the best values of k will be 9"
   ]
  },
  {
   "cell_type": "code",
   "execution_count": 34,
   "id": "c7f2e0f9",
   "metadata": {},
   "outputs": [
    {
     "name": "stdout",
     "output_type": "stream",
     "text": [
      "[-0.01241356  0.56152933  0.58464473  0.58529949  0.60098673  0.5625682\n",
      "  0.52054791  0.57972655  0.51459889  0.36302274  0.54919953  0.49332865\n",
      "  0.48935753  0.47380331  0.46451314]\n"
     ]
    }
   ],
   "source": [
    "from sklearn.model_selection import cross_val_score\n",
    "cross_val_score_train = cross_val_score(model, X_train, y_train, cv = 15, scoring = 'r2')\n",
    "print(cross_val_score_train)"
   ]
  },
  {
   "cell_type": "code",
   "execution_count": 35,
   "id": "2057b8d4",
   "metadata": {},
   "outputs": [],
   "source": [
    "from sklearn.neighbors import KNeighborsRegressor as knn\n",
    "\n",
    "knn_model = knn(n_neighbors=11, p=1, algorithm = 'brute')\n",
    "knn_model.fit(X_train, y_train)\n",
    "y_pred = knn_model.predict(X_test)"
   ]
  },
  {
   "cell_type": "code",
   "execution_count": 36,
   "id": "65f248ea",
   "metadata": {},
   "outputs": [
    {
     "name": "stdout",
     "output_type": "stream",
     "text": [
      "0.6648209517069061\n"
     ]
    }
   ],
   "source": [
    "from sklearn.metrics import r2_score as r2\n",
    "print(r2(y_test, y_pred))"
   ]
  },
  {
   "cell_type": "code",
   "execution_count": 37,
   "id": "84231ef0",
   "metadata": {},
   "outputs": [
    {
     "data": {
      "text/html": [
       "<div>\n",
       "<style scoped>\n",
       "    .dataframe tbody tr th:only-of-type {\n",
       "        vertical-align: middle;\n",
       "    }\n",
       "\n",
       "    .dataframe tbody tr th {\n",
       "        vertical-align: top;\n",
       "    }\n",
       "\n",
       "    .dataframe thead th {\n",
       "        text-align: right;\n",
       "    }\n",
       "</style>\n",
       "<table border=\"1\" class=\"dataframe\">\n",
       "  <thead>\n",
       "    <tr style=\"text-align: right;\">\n",
       "      <th></th>\n",
       "      <th>Estimated price</th>\n",
       "    </tr>\n",
       "  </thead>\n",
       "  <tbody>\n",
       "    <tr>\n",
       "      <th>0</th>\n",
       "      <td>48.063636</td>\n",
       "    </tr>\n",
       "    <tr>\n",
       "      <th>1</th>\n",
       "      <td>18.009091</td>\n",
       "    </tr>\n",
       "    <tr>\n",
       "      <th>2</th>\n",
       "      <td>45.890909</td>\n",
       "    </tr>\n",
       "    <tr>\n",
       "      <th>3</th>\n",
       "      <td>18.009091</td>\n",
       "    </tr>\n",
       "    <tr>\n",
       "      <th>4</th>\n",
       "      <td>41.418182</td>\n",
       "    </tr>\n",
       "    <tr>\n",
       "      <th>...</th>\n",
       "      <td>...</td>\n",
       "    </tr>\n",
       "    <tr>\n",
       "      <th>78</th>\n",
       "      <td>49.400000</td>\n",
       "    </tr>\n",
       "    <tr>\n",
       "      <th>79</th>\n",
       "      <td>31.654545</td>\n",
       "    </tr>\n",
       "    <tr>\n",
       "      <th>80</th>\n",
       "      <td>49.400000</td>\n",
       "    </tr>\n",
       "    <tr>\n",
       "      <th>81</th>\n",
       "      <td>32.518182</td>\n",
       "    </tr>\n",
       "    <tr>\n",
       "      <th>82</th>\n",
       "      <td>37.718182</td>\n",
       "    </tr>\n",
       "  </tbody>\n",
       "</table>\n",
       "<p>83 rows × 1 columns</p>\n",
       "</div>"
      ],
      "text/plain": [
       "    Estimated price\n",
       "0         48.063636\n",
       "1         18.009091\n",
       "2         45.890909\n",
       "3         18.009091\n",
       "4         41.418182\n",
       "..              ...\n",
       "78        49.400000\n",
       "79        31.654545\n",
       "80        49.400000\n",
       "81        32.518182\n",
       "82        37.718182\n",
       "\n",
       "[83 rows x 1 columns]"
      ]
     },
     "execution_count": 37,
     "metadata": {},
     "output_type": "execute_result"
    }
   ],
   "source": [
    "pred_price = pd.DataFrame(y_pred, columns = ['Estimated price'])\n",
    "pred_price"
   ]
  },
  {
   "cell_type": "code",
   "execution_count": 38,
   "id": "0b23c96f",
   "metadata": {},
   "outputs": [
    {
     "data": {
      "text/html": [
       "<div>\n",
       "<style scoped>\n",
       "    .dataframe tbody tr th:only-of-type {\n",
       "        vertical-align: middle;\n",
       "    }\n",
       "\n",
       "    .dataframe tbody tr th {\n",
       "        vertical-align: top;\n",
       "    }\n",
       "\n",
       "    .dataframe thead th {\n",
       "        text-align: right;\n",
       "    }\n",
       "</style>\n",
       "<table border=\"1\" class=\"dataframe\">\n",
       "  <thead>\n",
       "    <tr style=\"text-align: right;\">\n",
       "      <th></th>\n",
       "      <th>House_price_of_unit_area</th>\n",
       "    </tr>\n",
       "  </thead>\n",
       "  <tbody>\n",
       "    <tr>\n",
       "      <th>0</th>\n",
       "      <td>45.3</td>\n",
       "    </tr>\n",
       "    <tr>\n",
       "      <th>1</th>\n",
       "      <td>14.4</td>\n",
       "    </tr>\n",
       "    <tr>\n",
       "      <th>2</th>\n",
       "      <td>46.0</td>\n",
       "    </tr>\n",
       "    <tr>\n",
       "      <th>3</th>\n",
       "      <td>15.6</td>\n",
       "    </tr>\n",
       "    <tr>\n",
       "      <th>4</th>\n",
       "      <td>50.2</td>\n",
       "    </tr>\n",
       "  </tbody>\n",
       "</table>\n",
       "</div>"
      ],
      "text/plain": [
       "   House_price_of_unit_area\n",
       "0                      45.3\n",
       "1                      14.4\n",
       "2                      46.0\n",
       "3                      15.6\n",
       "4                      50.2"
      ]
     },
     "execution_count": 38,
     "metadata": {},
     "output_type": "execute_result"
    }
   ],
   "source": [
    "actual_price = y_test.reset_index(drop=True)\n",
    "actual_price.head()"
   ]
  },
  {
   "cell_type": "code",
   "execution_count": 39,
   "id": "17e51575",
   "metadata": {},
   "outputs": [
    {
     "data": {
      "text/html": [
       "<div>\n",
       "<style scoped>\n",
       "    .dataframe tbody tr th:only-of-type {\n",
       "        vertical-align: middle;\n",
       "    }\n",
       "\n",
       "    .dataframe tbody tr th {\n",
       "        vertical-align: top;\n",
       "    }\n",
       "\n",
       "    .dataframe thead th {\n",
       "        text-align: right;\n",
       "    }\n",
       "</style>\n",
       "<table border=\"1\" class=\"dataframe\">\n",
       "  <thead>\n",
       "    <tr style=\"text-align: right;\">\n",
       "      <th></th>\n",
       "      <th>Estimated price</th>\n",
       "      <th>House_price_of_unit_area</th>\n",
       "    </tr>\n",
       "  </thead>\n",
       "  <tbody>\n",
       "    <tr>\n",
       "      <th>0</th>\n",
       "      <td>48.0</td>\n",
       "      <td>45.3</td>\n",
       "    </tr>\n",
       "    <tr>\n",
       "      <th>1</th>\n",
       "      <td>18.0</td>\n",
       "      <td>14.4</td>\n",
       "    </tr>\n",
       "    <tr>\n",
       "      <th>2</th>\n",
       "      <td>46.0</td>\n",
       "      <td>46.0</td>\n",
       "    </tr>\n",
       "    <tr>\n",
       "      <th>3</th>\n",
       "      <td>18.0</td>\n",
       "      <td>15.6</td>\n",
       "    </tr>\n",
       "    <tr>\n",
       "      <th>4</th>\n",
       "      <td>41.0</td>\n",
       "      <td>50.2</td>\n",
       "    </tr>\n",
       "    <tr>\n",
       "      <th>...</th>\n",
       "      <td>...</td>\n",
       "      <td>...</td>\n",
       "    </tr>\n",
       "    <tr>\n",
       "      <th>78</th>\n",
       "      <td>49.0</td>\n",
       "      <td>53.0</td>\n",
       "    </tr>\n",
       "    <tr>\n",
       "      <th>79</th>\n",
       "      <td>32.0</td>\n",
       "      <td>38.2</td>\n",
       "    </tr>\n",
       "    <tr>\n",
       "      <th>80</th>\n",
       "      <td>49.0</td>\n",
       "      <td>46.7</td>\n",
       "    </tr>\n",
       "    <tr>\n",
       "      <th>81</th>\n",
       "      <td>33.0</td>\n",
       "      <td>24.6</td>\n",
       "    </tr>\n",
       "    <tr>\n",
       "      <th>82</th>\n",
       "      <td>38.0</td>\n",
       "      <td>36.2</td>\n",
       "    </tr>\n",
       "  </tbody>\n",
       "</table>\n",
       "<p>83 rows × 2 columns</p>\n",
       "</div>"
      ],
      "text/plain": [
       "    Estimated price  House_price_of_unit_area\n",
       "0              48.0                      45.3\n",
       "1              18.0                      14.4\n",
       "2              46.0                      46.0\n",
       "3              18.0                      15.6\n",
       "4              41.0                      50.2\n",
       "..              ...                       ...\n",
       "78             49.0                      53.0\n",
       "79             32.0                      38.2\n",
       "80             49.0                      46.7\n",
       "81             33.0                      24.6\n",
       "82             38.0                      36.2\n",
       "\n",
       "[83 rows x 2 columns]"
      ]
     },
     "execution_count": 39,
     "metadata": {},
     "output_type": "execute_result"
    }
   ],
   "source": [
    "pd.concat([pred_price.round(), actual_price],axis=1)"
   ]
  },
  {
   "cell_type": "code",
   "execution_count": 40,
   "id": "0449dad1",
   "metadata": {},
   "outputs": [
    {
     "name": "stderr",
     "output_type": "stream",
     "text": [
      "<ipython-input-40-061160ebfb61>:5: DataConversionWarning: A column-vector y was passed when a 1d array was expected. Please change the shape of y to (n_samples,), for example using ravel().\n",
      "  model.fit(X_train,y_train)\n"
     ]
    },
    {
     "name": "stdout",
     "output_type": "stream",
     "text": [
      "Training score : 0.9385276337346428\n",
      "The predictions are [47.13103333 18.794      47.474      20.627      35.482      38.403\n",
      " 44.322      38.167      50.09442857 36.324      43.227      36.02723333\n",
      " 36.8099     41.482      58.19905    46.851      36.053      47.5200754\n",
      " 40.76966667 39.916      51.565      28.354      26.494      50.74050476\n",
      " 52.4884     39.39       40.29       21.481      52.728      31.145\n",
      " 55.0722881  29.6205     49.30306111 39.926      38.72       27.566\n",
      " 48.313      27.15433333 53.005      12.766      52.89910714 37.453\n",
      " 26.848      46.107      16.1566     53.78233333 39.751      14.06\n",
      " 27.156      54.03       60.46187143 35.642      53.5142     19.42233333\n",
      " 28.156      42.103      55.625      36.0255     43.46833333 29.411\n",
      " 39.696      59.08       38.31373333 49.6167619  39.538      25.452\n",
      " 21.153      20.282      55.959      38.403      23.37033333 51.633\n",
      " 48.263      25.406      36.475      29.74893333 27.601      17.93696667\n",
      " 46.33293333 34.955      50.00586667 28.27566667 37.057     ]\n",
      "\n",
      "The r2 score is 0.7532790640022454\n",
      "The MAE score is 4.757363826735511\n",
      "The MSE score is 42.855183049297885\n",
      "The RMSE score is 42.855183049297885\n"
     ]
    }
   ],
   "source": [
    "from sklearn.ensemble import RandomForestRegressor\n",
    "from sklearn import metrics\n",
    "\n",
    "model=RandomForestRegressor()\n",
    "model.fit(X_train,y_train)\n",
    "print('Training score : {}'.format(model.score(X_train,y_train)))\n",
    "y_pred=model.predict(X_test)\n",
    "print('The predictions are {}\\n'.format(y_pred))\n",
    "print('The r2 score is {}'.format(metrics.r2_score(y_test,y_pred)))\n",
    "\n",
    "print('The MAE score is {}'.format(metrics.mean_absolute_error(y_test,y_pred)))\n",
    "print('The MSE score is {}'.format(metrics.mean_squared_error(y_test,y_pred)))\n",
    "print('The RMSE score is {}'.format(metrics.mean_squared_error(y_test,y_pred)))\n",
    "    "
   ]
  },
  {
   "cell_type": "code",
   "execution_count": 41,
   "id": "cb56b79d",
   "metadata": {},
   "outputs": [
    {
     "data": {
      "text/plain": [
       "array([47.13103333, 18.794     , 47.474     , 20.627     , 35.482     ,\n",
       "       38.403     , 44.322     , 38.167     , 50.09442857, 36.324     ,\n",
       "       43.227     , 36.02723333, 36.8099    , 41.482     , 58.19905   ,\n",
       "       46.851     , 36.053     , 47.5200754 , 40.76966667, 39.916     ,\n",
       "       51.565     , 28.354     , 26.494     , 50.74050476, 52.4884    ,\n",
       "       39.39      , 40.29      , 21.481     , 52.728     , 31.145     ,\n",
       "       55.0722881 , 29.6205    , 49.30306111, 39.926     , 38.72      ,\n",
       "       27.566     , 48.313     , 27.15433333, 53.005     , 12.766     ,\n",
       "       52.89910714, 37.453     , 26.848     , 46.107     , 16.1566    ,\n",
       "       53.78233333, 39.751     , 14.06      , 27.156     , 54.03      ,\n",
       "       60.46187143, 35.642     , 53.5142    , 19.42233333, 28.156     ,\n",
       "       42.103     , 55.625     , 36.0255    , 43.46833333, 29.411     ,\n",
       "       39.696     , 59.08      , 38.31373333, 49.6167619 , 39.538     ,\n",
       "       25.452     , 21.153     , 20.282     , 55.959     , 38.403     ,\n",
       "       23.37033333, 51.633     , 48.263     , 25.406     , 36.475     ,\n",
       "       29.74893333, 27.601     , 17.93696667, 46.33293333, 34.955     ,\n",
       "       50.00586667, 28.27566667, 37.057     ])"
      ]
     },
     "execution_count": 41,
     "metadata": {},
     "output_type": "execute_result"
    }
   ],
   "source": [
    "y_pred"
   ]
  },
  {
   "cell_type": "code",
   "execution_count": 42,
   "id": "9baeab47",
   "metadata": {},
   "outputs": [],
   "source": [
    "from sklearn.model_selection import RandomizedSearchCV\n",
    "\n",
    "n_estimators=[int(x) for x in np.linspace(\n",
    "    start=100,\n",
    "    stop=1200,\n",
    "    num=6)]\n",
    "max_depth=[int(x) for x in np.linspace(\n",
    "    start=5,\n",
    "    stop=35,\n",
    "    num=4)]"
   ]
  },
  {
   "cell_type": "code",
   "execution_count": 43,
   "id": "39f48842",
   "metadata": {},
   "outputs": [
    {
     "name": "stdout",
     "output_type": "stream",
     "text": [
      "Fitting 3 folds for each of 10 candidates, totalling 30 fits\n"
     ]
    },
    {
     "name": "stderr",
     "output_type": "stream",
     "text": [
      "C:\\Users\\91891\\anaconda3\\lib\\site-packages\\sklearn\\model_selection\\_search.py:880: DataConversionWarning: A column-vector y was passed when a 1d array was expected. Please change the shape of y to (n_samples,), for example using ravel().\n",
      "  self.best_estimator_.fit(X, y, **fit_params)\n"
     ]
    },
    {
     "name": "stdout",
     "output_type": "stream",
     "text": [
      "{'n_estimators': 100, 'min_samples_split': 5, 'max_features': 'sqrt', 'max_depth': 15}\n"
     ]
    }
   ],
   "source": [
    "random_grid={'n_estimators':n_estimators,'max_depth':max_depth,\n",
    "            'max_features':['auto','sqrt'],'min_samples_split':[5,10,15,20]}\n",
    "\n",
    "CV=RandomizedSearchCV(\n",
    "    estimator=RandomForestRegressor(),\n",
    "    param_distributions=random_grid,\n",
    "    n_jobs=-1,\n",
    "    cv=3,\n",
    "    verbose=2\n",
    "    )\n",
    "\n",
    "CV.fit(X_train,y_train)\n",
    "\n",
    "print(CV.best_params_)\n",
    "\n",
    "prediction=CV.predict(X_test)"
   ]
  },
  {
   "cell_type": "code",
   "execution_count": 44,
   "id": "edef0595",
   "metadata": {},
   "outputs": [
    {
     "data": {
      "text/plain": [
       "0.7543878083594153"
      ]
     },
     "execution_count": 44,
     "metadata": {},
     "output_type": "execute_result"
    }
   ],
   "source": [
    "metrics.r2_score(y_test,prediction)"
   ]
  },
  {
   "cell_type": "code",
   "execution_count": 45,
   "id": "502998cd",
   "metadata": {},
   "outputs": [],
   "source": [
    "import pickle\n",
    "with open('saved_pickle','wb') as file:\n",
    "    pickle.dump(knn_model,file)"
   ]
  },
  {
   "cell_type": "code",
   "execution_count": 46,
   "id": "b1e674fd",
   "metadata": {},
   "outputs": [],
   "source": [
    "model=open('saved_pickle','rb')\n",
    "regressor=pickle.load(model)"
   ]
  },
  {
   "cell_type": "code",
   "execution_count": 47,
   "id": "4ac730a2",
   "metadata": {},
   "outputs": [
    {
     "data": {
      "text/html": [
       "<div>\n",
       "<style scoped>\n",
       "    .dataframe tbody tr th:only-of-type {\n",
       "        vertical-align: middle;\n",
       "    }\n",
       "\n",
       "    .dataframe tbody tr th {\n",
       "        vertical-align: top;\n",
       "    }\n",
       "\n",
       "    .dataframe thead th {\n",
       "        text-align: right;\n",
       "    }\n",
       "</style>\n",
       "<table border=\"1\" class=\"dataframe\">\n",
       "  <thead>\n",
       "    <tr style=\"text-align: right;\">\n",
       "      <th></th>\n",
       "      <th>House_age</th>\n",
       "      <th>Distance_to_the_nearest_MRT_station</th>\n",
       "      <th>Number_of_convenience_stores</th>\n",
       "      <th>Latitude</th>\n",
       "      <th>Longitude</th>\n",
       "      <th>House_price_of_unit_area</th>\n",
       "    </tr>\n",
       "  </thead>\n",
       "  <tbody>\n",
       "    <tr>\n",
       "      <th>0</th>\n",
       "      <td>32.0</td>\n",
       "      <td>85.0</td>\n",
       "      <td>10</td>\n",
       "      <td>25.0</td>\n",
       "      <td>122.0</td>\n",
       "      <td>37.9</td>\n",
       "    </tr>\n",
       "    <tr>\n",
       "      <th>1</th>\n",
       "      <td>19.5</td>\n",
       "      <td>307.0</td>\n",
       "      <td>9</td>\n",
       "      <td>25.0</td>\n",
       "      <td>122.0</td>\n",
       "      <td>42.2</td>\n",
       "    </tr>\n",
       "    <tr>\n",
       "      <th>2</th>\n",
       "      <td>13.3</td>\n",
       "      <td>562.0</td>\n",
       "      <td>5</td>\n",
       "      <td>25.0</td>\n",
       "      <td>122.0</td>\n",
       "      <td>47.3</td>\n",
       "    </tr>\n",
       "    <tr>\n",
       "      <th>3</th>\n",
       "      <td>13.3</td>\n",
       "      <td>562.0</td>\n",
       "      <td>5</td>\n",
       "      <td>25.0</td>\n",
       "      <td>122.0</td>\n",
       "      <td>54.8</td>\n",
       "    </tr>\n",
       "    <tr>\n",
       "      <th>4</th>\n",
       "      <td>5.0</td>\n",
       "      <td>391.0</td>\n",
       "      <td>5</td>\n",
       "      <td>25.0</td>\n",
       "      <td>122.0</td>\n",
       "      <td>43.1</td>\n",
       "    </tr>\n",
       "  </tbody>\n",
       "</table>\n",
       "</div>"
      ],
      "text/plain": [
       "   House_age  Distance_to_the_nearest_MRT_station  \\\n",
       "0       32.0                                 85.0   \n",
       "1       19.5                                307.0   \n",
       "2       13.3                                562.0   \n",
       "3       13.3                                562.0   \n",
       "4        5.0                                391.0   \n",
       "\n",
       "   Number_of_convenience_stores  Latitude  Longitude  House_price_of_unit_area  \n",
       "0                            10      25.0      122.0                      37.9  \n",
       "1                             9      25.0      122.0                      42.2  \n",
       "2                             5      25.0      122.0                      47.3  \n",
       "3                             5      25.0      122.0                      54.8  \n",
       "4                             5      25.0      122.0                      43.1  "
      ]
     },
     "execution_count": 47,
     "metadata": {},
     "output_type": "execute_result"
    }
   ],
   "source": [
    "df.head()"
   ]
  },
  {
   "cell_type": "code",
   "execution_count": null,
   "id": "dc937ebe",
   "metadata": {},
   "outputs": [],
   "source": []
  }
 ],
 "metadata": {
  "kernelspec": {
   "display_name": "Python 3",
   "language": "python",
   "name": "python3"
  },
  "language_info": {
   "codemirror_mode": {
    "name": "ipython",
    "version": 3
   },
   "file_extension": ".py",
   "mimetype": "text/x-python",
   "name": "python",
   "nbconvert_exporter": "python",
   "pygments_lexer": "ipython3",
   "version": "3.8.8"
  }
 },
 "nbformat": 4,
 "nbformat_minor": 5
}
